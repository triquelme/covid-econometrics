{
 "cells": [
  {
   "cell_type": "code",
   "execution_count": 1,
   "metadata": {},
   "outputs": [],
   "source": [
    "import pandas as pd"
   ]
  },
  {
   "cell_type": "code",
   "execution_count": 2,
   "metadata": {},
   "outputs": [],
   "source": [
    "df_covid = pd.read_csv(\"data/donnes-hospitalieres-covid19.csv\", sep=\";\", header=0)"
   ]
  },
  {
   "cell_type": "code",
   "execution_count": 3,
   "metadata": {},
   "outputs": [
    {
     "data": {
      "text/html": [
       "<div>\n",
       "<style scoped>\n",
       "    .dataframe tbody tr th:only-of-type {\n",
       "        vertical-align: middle;\n",
       "    }\n",
       "\n",
       "    .dataframe tbody tr th {\n",
       "        vertical-align: top;\n",
       "    }\n",
       "\n",
       "    .dataframe thead th {\n",
       "        text-align: right;\n",
       "    }\n",
       "</style>\n",
       "<table border=\"1\" class=\"dataframe\">\n",
       "  <thead>\n",
       "    <tr style=\"text-align: right;\">\n",
       "      <th></th>\n",
       "      <th>dep</th>\n",
       "      <th>sexe</th>\n",
       "      <th>jour</th>\n",
       "      <th>hosp</th>\n",
       "      <th>rea</th>\n",
       "      <th>rad</th>\n",
       "      <th>dc</th>\n",
       "    </tr>\n",
       "  </thead>\n",
       "  <tbody>\n",
       "    <tr>\n",
       "      <th>0</th>\n",
       "      <td>01</td>\n",
       "      <td>0</td>\n",
       "      <td>2020-03-18</td>\n",
       "      <td>2</td>\n",
       "      <td>0</td>\n",
       "      <td>1</td>\n",
       "      <td>0</td>\n",
       "    </tr>\n",
       "    <tr>\n",
       "      <th>1</th>\n",
       "      <td>01</td>\n",
       "      <td>1</td>\n",
       "      <td>2020-03-18</td>\n",
       "      <td>1</td>\n",
       "      <td>0</td>\n",
       "      <td>1</td>\n",
       "      <td>0</td>\n",
       "    </tr>\n",
       "    <tr>\n",
       "      <th>2</th>\n",
       "      <td>01</td>\n",
       "      <td>2</td>\n",
       "      <td>2020-03-18</td>\n",
       "      <td>1</td>\n",
       "      <td>0</td>\n",
       "      <td>0</td>\n",
       "      <td>0</td>\n",
       "    </tr>\n",
       "    <tr>\n",
       "      <th>3</th>\n",
       "      <td>02</td>\n",
       "      <td>0</td>\n",
       "      <td>2020-03-18</td>\n",
       "      <td>41</td>\n",
       "      <td>10</td>\n",
       "      <td>18</td>\n",
       "      <td>11</td>\n",
       "    </tr>\n",
       "    <tr>\n",
       "      <th>4</th>\n",
       "      <td>02</td>\n",
       "      <td>1</td>\n",
       "      <td>2020-03-18</td>\n",
       "      <td>19</td>\n",
       "      <td>4</td>\n",
       "      <td>11</td>\n",
       "      <td>6</td>\n",
       "    </tr>\n",
       "    <tr>\n",
       "      <th>...</th>\n",
       "      <td>...</td>\n",
       "      <td>...</td>\n",
       "      <td>...</td>\n",
       "      <td>...</td>\n",
       "      <td>...</td>\n",
       "      <td>...</td>\n",
       "      <td>...</td>\n",
       "    </tr>\n",
       "    <tr>\n",
       "      <th>18481</th>\n",
       "      <td>974</td>\n",
       "      <td>1</td>\n",
       "      <td>2020-05-18</td>\n",
       "      <td>10</td>\n",
       "      <td>4</td>\n",
       "      <td>56</td>\n",
       "      <td>0</td>\n",
       "    </tr>\n",
       "    <tr>\n",
       "      <th>18482</th>\n",
       "      <td>974</td>\n",
       "      <td>2</td>\n",
       "      <td>2020-05-18</td>\n",
       "      <td>2</td>\n",
       "      <td>0</td>\n",
       "      <td>59</td>\n",
       "      <td>0</td>\n",
       "    </tr>\n",
       "    <tr>\n",
       "      <th>18483</th>\n",
       "      <td>976</td>\n",
       "      <td>0</td>\n",
       "      <td>2020-05-18</td>\n",
       "      <td>55</td>\n",
       "      <td>10</td>\n",
       "      <td>178</td>\n",
       "      <td>18</td>\n",
       "    </tr>\n",
       "    <tr>\n",
       "      <th>18484</th>\n",
       "      <td>976</td>\n",
       "      <td>1</td>\n",
       "      <td>2020-05-18</td>\n",
       "      <td>31</td>\n",
       "      <td>4</td>\n",
       "      <td>87</td>\n",
       "      <td>12</td>\n",
       "    </tr>\n",
       "    <tr>\n",
       "      <th>18485</th>\n",
       "      <td>976</td>\n",
       "      <td>2</td>\n",
       "      <td>2020-05-18</td>\n",
       "      <td>24</td>\n",
       "      <td>6</td>\n",
       "      <td>88</td>\n",
       "      <td>6</td>\n",
       "    </tr>\n",
       "  </tbody>\n",
       "</table>\n",
       "<p>18486 rows × 7 columns</p>\n",
       "</div>"
      ],
      "text/plain": [
       "       dep  sexe        jour  hosp  rea  rad  dc\n",
       "0       01     0  2020-03-18     2    0    1   0\n",
       "1       01     1  2020-03-18     1    0    1   0\n",
       "2       01     2  2020-03-18     1    0    0   0\n",
       "3       02     0  2020-03-18    41   10   18  11\n",
       "4       02     1  2020-03-18    19    4   11   6\n",
       "...    ...   ...         ...   ...  ...  ...  ..\n",
       "18481  974     1  2020-05-18    10    4   56   0\n",
       "18482  974     2  2020-05-18     2    0   59   0\n",
       "18483  976     0  2020-05-18    55   10  178  18\n",
       "18484  976     1  2020-05-18    31    4   87  12\n",
       "18485  976     2  2020-05-18    24    6   88   6\n",
       "\n",
       "[18486 rows x 7 columns]"
      ]
     },
     "execution_count": 3,
     "metadata": {},
     "output_type": "execute_result"
    }
   ],
   "source": [
    "df_covid"
   ]
  },
  {
   "cell_type": "code",
   "execution_count": 4,
   "metadata": {},
   "outputs": [
    {
     "data": {
      "text/plain": [
       "(18486, 7)"
      ]
     },
     "execution_count": 4,
     "metadata": {},
     "output_type": "execute_result"
    }
   ],
   "source": [
    "df_covid.shape"
   ]
  },
  {
   "cell_type": "code",
   "execution_count": 5,
   "metadata": {},
   "outputs": [
    {
     "data": {
      "text/plain": [
       "dep     object\n",
       "sexe     int64\n",
       "jour    object\n",
       "hosp     int64\n",
       "rea      int64\n",
       "rad      int64\n",
       "dc       int64\n",
       "dtype: object"
      ]
     },
     "execution_count": 5,
     "metadata": {},
     "output_type": "execute_result"
    }
   ],
   "source": [
    "df_covid.dtypes"
   ]
  },
  {
   "cell_type": "code",
   "execution_count": 8,
   "metadata": {},
   "outputs": [
    {
     "name": "stdout",
     "output_type": "stream",
     "text": [
      "Writing file into hdfs: success.\n"
     ]
    }
   ],
   "source": [
    "from hdfs import InsecureClient   \n",
    "\n",
    "\n",
    "#connect to hdfs\n",
    "hdfs_client = InsecureClient('http://localhost:9870')    \n",
    "\n",
    "    \n",
    "#Create directory in HDFS to save file\n",
    "hdfs_path = '/covid_data'\n",
    "hdfs_client.makedirs(hdfs_path)\n",
    "\n",
    "\n",
    "# Write Dataframe to hdfs\n",
    "with hdfs_client.write(hdfs_path+'/donnes-hospitalieres-covid19.csv', encoding='utf-8') as writer:\n",
    "    df_covid.to_csv(writer, sep=';')\n",
    "print(\"Writing file into hdfs: success.\")    "
   ]
  },
  {
   "cell_type": "code",
   "execution_count": 21,
   "metadata": {},
   "outputs": [
    {
     "data": {
      "text/plain": [
       "'/covid_data/donnes-hospitalieres-covid19.csv'"
      ]
     },
     "execution_count": 21,
     "metadata": {},
     "output_type": "execute_result"
    }
   ],
   "source": [
    "from hdfs import InsecureClient\n",
    "\n",
    "hdfs_client = InsecureClient('http://localhost:9870')\n",
    "\n",
    "hdfs_path = \"/covid_data\"\n",
    "client_hdfs.makedirs(hdfs_path)\n",
    "\n",
    "local_path=\"/Users/thomas/Documents/poe_bigdata/s12_projet_big_data/data/donnes-hospitalieres-covid19.csv\"\n",
    "\n",
    "hdfs_client.upload(hdfs_path, local_path)"
   ]
  }
 ],
 "metadata": {
  "kernelspec": {
   "display_name": "Python 3",
   "language": "python",
   "name": "python3"
  },
  "language_info": {
   "codemirror_mode": {
    "name": "ipython",
    "version": 3
   },
   "file_extension": ".py",
   "mimetype": "text/x-python",
   "name": "python",
   "nbconvert_exporter": "python",
   "pygments_lexer": "ipython3",
   "version": "3.7.6"
  }
 },
 "nbformat": 4,
 "nbformat_minor": 4
}
