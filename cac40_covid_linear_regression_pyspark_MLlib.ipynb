{
 "cells": [
  {
   "cell_type": "code",
   "execution_count": 1,
   "metadata": {},
   "outputs": [],
   "source": [
    "from pyspark.sql import SparkSession\n",
    "spark = SparkSession.builder.appName(\"RLR\").getOrCreate()"
   ]
  },
  {
   "cell_type": "code",
   "execution_count": 7,
   "metadata": {},
   "outputs": [],
   "source": [
    "from pyspark.ml.regression import LinearRegression"
   ]
  },
  {
   "cell_type": "code",
   "execution_count": 11,
   "metadata": {},
   "outputs": [],
   "source": [
    "# read from local\n",
    "data = spark.read.csv(\"data/joined_cac40_covid_data.csv\", header = True, sep=\";\", inferSchema = True)"
   ]
  },
  {
   "cell_type": "code",
   "execution_count": 4,
   "metadata": {},
   "outputs": [],
   "source": [
    "# read from hdfs\n",
    "data = spark.read.csv(\"hdfs://localhost:9000/project/joined_cac40_covid_data.csv\", header = True, sep=\";\", inferSchema = True)"
   ]
  },
  {
   "cell_type": "code",
   "execution_count": 3,
   "metadata": {},
   "outputs": [
    {
     "data": {
      "text/plain": [
       "[Row(Date=datetime.datetime(2020, 3, 18, 0, 0), Adj Close=3754.840088, hospitalized=2972, in intensive care=771, returning home=816, deceased=218),\n",
       " Row(Date=datetime.datetime(2020, 3, 19, 0, 0), Adj Close=3855.5, hospitalized=4073, in intensive care=1002, returning home=1180, deceased=327),\n",
       " Row(Date=datetime.datetime(2020, 3, 20, 0, 0), Adj Close=4048.800049, hospitalized=5226, in intensive care=1297, returning home=1587, deceased=450),\n",
       " Row(Date=datetime.datetime(2020, 3, 23, 0, 0), Adj Close=3914.310059, hospitalized=8673, in intensive care=2080, returning home=2567, deceased=860),\n",
       " Row(Date=datetime.datetime(2020, 3, 24, 0, 0), Adj Close=4242.700195, hospitalized=10176, in intensive care=2516, returning home=3281, deceased=1100)]"
      ]
     },
     "execution_count": 3,
     "metadata": {},
     "output_type": "execute_result"
    }
   ],
   "source": [
    "data.head(5)"
   ]
  },
  {
   "cell_type": "code",
   "execution_count": 13,
   "metadata": {},
   "outputs": [
    {
     "name": "stdout",
     "output_type": "stream",
     "text": [
      "root\n",
      " |-- Date: timestamp (nullable = true)\n",
      " |-- Adj Close: double (nullable = true)\n",
      " |-- hospitalized: integer (nullable = true)\n",
      " |-- in intensive care: integer (nullable = true)\n",
      " |-- returning home: integer (nullable = true)\n",
      " |-- deceased: integer (nullable = true)\n",
      "\n"
     ]
    }
   ],
   "source": [
    "data.printSchema()"
   ]
  },
  {
   "cell_type": "code",
   "execution_count": 16,
   "metadata": {},
   "outputs": [],
   "source": [
    "from pyspark.ml.linalg import Vectors\n",
    "from pyspark.ml.feature import VectorAssembler"
   ]
  },
  {
   "cell_type": "code",
   "execution_count": 17,
   "metadata": {},
   "outputs": [
    {
     "data": {
      "text/plain": [
       "['Date',\n",
       " 'Adj Close',\n",
       " 'hospitalized',\n",
       " 'in intensive care',\n",
       " 'returning home',\n",
       " 'deceased']"
      ]
     },
     "execution_count": 17,
     "metadata": {},
     "output_type": "execute_result"
    }
   ],
   "source": [
    "data.columns"
   ]
  },
  {
   "cell_type": "code",
   "execution_count": 21,
   "metadata": {},
   "outputs": [],
   "source": [
    "assembler = VectorAssembler(inputCols=['hospitalized'],\n",
    "                            outputCol='features')"
   ]
  },
  {
   "cell_type": "code",
   "execution_count": 22,
   "metadata": {},
   "outputs": [],
   "source": [
    "output = assembler.transform(data)"
   ]
  },
  {
   "cell_type": "code",
   "execution_count": 23,
   "metadata": {},
   "outputs": [
    {
     "data": {
      "text/plain": [
       "[Row(Date=datetime.datetime(2020, 3, 18, 0, 0), Adj Close=3754.840088, hospitalized=2972, in intensive care=771, returning home=816, deceased=218, features=DenseVector([2972.0]))]"
      ]
     },
     "execution_count": 23,
     "metadata": {},
     "output_type": "execute_result"
    }
   ],
   "source": [
    "output.head(1)"
   ]
  },
  {
   "cell_type": "code",
   "execution_count": 24,
   "metadata": {},
   "outputs": [],
   "source": [
    "final_data = output.select('features', 'Adj Close')"
   ]
  },
  {
   "cell_type": "code",
   "execution_count": 40,
   "metadata": {},
   "outputs": [
    {
     "name": "stdout",
     "output_type": "stream",
     "text": [
      "+---------+------------------+\n",
      "| features|         Adj Close|\n",
      "+---------+------------------+\n",
      "| [2972.0]|       3754.840088|\n",
      "| [4073.0]|            3855.5|\n",
      "| [5226.0]|       4048.800049|\n",
      "| [8673.0]|       3914.310059|\n",
      "|[10176.0]|       4242.700195|\n",
      "|[12072.0]|       4432.299805|\n",
      "|[13879.0]|       4543.580078|\n",
      "|[15701.0]| 4351.490234000001|\n",
      "|[20946.0]| 4378.509765999999|\n",
      "|[22672.0]|       4396.120117|\n",
      "|[24543.0]| 4207.240234000001|\n",
      "|[26131.0]|       4220.959961|\n",
      "|[27302.0]|       4154.580078|\n",
      "|[29569.0]|4346.1401369999985|\n",
      "|[29871.0]|        4438.27002|\n",
      "|[30217.0]|           4442.75|\n",
      "|[30608.0]|       4506.850098|\n",
      "|[32131.0]|       4523.910156|\n",
      "|[31623.0]|       4353.720215|\n",
      "|[31172.0]|       4350.160156|\n",
      "+---------+------------------+\n",
      "only showing top 20 rows\n",
      "\n"
     ]
    }
   ],
   "source": [
    "final_data.show()"
   ]
  },
  {
   "cell_type": "code",
   "execution_count": 26,
   "metadata": {},
   "outputs": [],
   "source": [
    "train_data, test_data = final_data.randomSplit([0.7, 0.3])"
   ]
  },
  {
   "cell_type": "code",
   "execution_count": 39,
   "metadata": {},
   "outputs": [],
   "source": [
    "lr = LinearRegression(featuresCol='features', labelCol='Adj Close', predictionCol='prediction')"
   ]
  },
  {
   "cell_type": "code",
   "execution_count": 41,
   "metadata": {},
   "outputs": [],
   "source": [
    "lr_model = lr.fit(train_data)"
   ]
  },
  {
   "cell_type": "code",
   "execution_count": 42,
   "metadata": {},
   "outputs": [],
   "source": [
    "test_results = lr_model.evaluate(test_data)"
   ]
  },
  {
   "cell_type": "code",
   "execution_count": 44,
   "metadata": {},
   "outputs": [
    {
     "name": "stdout",
     "output_type": "stream",
     "text": [
      "+-------------------+\n",
      "|          residuals|\n",
      "+-------------------+\n",
      "|  8.616815223835147|\n",
      "| 111.48987200987631|\n",
      "|  49.24656405344194|\n",
      "|  132.4974404572913|\n",
      "| 188.91282401403078|\n",
      "|-203.65181823431067|\n",
      "| -77.10100532360411|\n",
      "|-55.117782195969085|\n",
      "|  -138.005833333581|\n",
      "|-57.000503785469846|\n",
      "+-------------------+\n",
      "\n"
     ]
    }
   ],
   "source": [
    "test_results.residuals.show()"
   ]
  },
  {
   "cell_type": "code",
   "execution_count": 45,
   "metadata": {},
   "outputs": [
    {
     "data": {
      "text/plain": [
       "118.71156532254412"
      ]
     },
     "execution_count": 45,
     "metadata": {},
     "output_type": "execute_result"
    }
   ],
   "source": [
    "test_results.rootMeanSquaredError"
   ]
  },
  {
   "cell_type": "code",
   "execution_count": 46,
   "metadata": {},
   "outputs": [
    {
     "data": {
      "text/plain": [
       "0.2751864637719861"
      ]
     },
     "execution_count": 46,
     "metadata": {},
     "output_type": "execute_result"
    }
   ],
   "source": [
    "test_results.r2"
   ]
  },
  {
   "cell_type": "code",
   "execution_count": 47,
   "metadata": {},
   "outputs": [],
   "source": [
    "unlabeled_data = test_data.select('features')"
   ]
  },
  {
   "cell_type": "code",
   "execution_count": 48,
   "metadata": {},
   "outputs": [
    {
     "name": "stdout",
     "output_type": "stream",
     "text": [
      "+---------+\n",
      "| features|\n",
      "+---------+\n",
      "| [5226.0]|\n",
      "|[10176.0]|\n",
      "|[20946.0]|\n",
      "|[21530.0]|\n",
      "|[22657.0]|\n",
      "|[26131.0]|\n",
      "|[29627.0]|\n",
      "|[29871.0]|\n",
      "|[29984.0]|\n",
      "|[30217.0]|\n",
      "+---------+\n",
      "\n"
     ]
    }
   ],
   "source": [
    "unlabeled_data.show()"
   ]
  },
  {
   "cell_type": "code",
   "execution_count": 49,
   "metadata": {},
   "outputs": [],
   "source": [
    "pred = lr_model.transform(unlabeled_data)"
   ]
  },
  {
   "cell_type": "code",
   "execution_count": 50,
   "metadata": {},
   "outputs": [
    {
     "name": "stdout",
     "output_type": "stream",
     "text": [
      "+---------+-----------------+\n",
      "| features|       prediction|\n",
      "+---------+-----------------+\n",
      "| [5226.0]|4040.183233776165|\n",
      "|[10176.0]|4131.210322990124|\n",
      "|[20946.0]|4329.263201946557|\n",
      "|[21530.0]|4340.002559542709|\n",
      "|[22657.0]|4360.727312985968|\n",
      "|[26131.0]| 4424.61177923431|\n",
      "|[29627.0]|4488.900810323604|\n",
      "|[29871.0]|4493.387802195969|\n",
      "|[29984.0]|4495.465794333581|\n",
      "|[30217.0]| 4499.75050378547|\n",
      "+---------+-----------------+\n",
      "\n"
     ]
    }
   ],
   "source": [
    "pred.show()"
   ]
  }
 ],
 "metadata": {
  "anaconda-cloud": {},
  "kernelspec": {
   "display_name": "Python 3",
   "language": "python",
   "name": "python3"
  },
  "language_info": {
   "codemirror_mode": {
    "name": "ipython",
    "version": 3
   },
   "file_extension": ".py",
   "mimetype": "text/x-python",
   "name": "python",
   "nbconvert_exporter": "python",
   "pygments_lexer": "ipython3",
   "version": "3.7.6"
  }
 },
 "nbformat": 4,
 "nbformat_minor": 1
}
