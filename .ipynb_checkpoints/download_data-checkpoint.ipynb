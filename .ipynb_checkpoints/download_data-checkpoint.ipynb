{
 "cells": [
  {
   "cell_type": "code",
   "execution_count": 1,
   "metadata": {},
   "outputs": [],
   "source": [
    "import requests"
   ]
  },
  {
   "cell_type": "code",
   "execution_count": 4,
   "metadata": {},
   "outputs": [],
   "source": [
    "# Download covid data from Santé publique France and export it to local files\n",
    "covid = requests.get(\"https://www.data.gouv.fr/fr/datasets/r/63352e38-d353-4b54-bfd1-f1b3ee1cabd7\")\n",
    "covid_new = requests.get(\"https://www.data.gouv.fr/fr/datasets/r/6fadff46-9efd-4c53-942a-54aca783c30c\")\n",
    "\n",
    "with open('data/donnes-hospitalieres-covid19.csv', 'wb') as f:\n",
    "    f.write(covid.content)\n",
    "        \n",
    "with open('data/donnes-hospitalieres-covid19-nouveaux.csv', 'wb') as f:\n",
    "    f.write(covid_new.content)\n",
    "\n",
    "# Download CAC40 data from Yahoo Finance and export it to local files\n",
    "cac40 = requests.get(\"https://query1.finance.yahoo.com/v7/finance/download/^FCHI?period1=1580515200&period2=1589760000&interval=1d&events=history\")\n",
    "\n",
    "with open('data/cac40_2020.csv', 'wb') as f:\n",
    "    f.write(cac40.content)\n",
    "\n",
    "# Download economic indicators data from Banque de France and export it to local files\n",
    "economy = requests.get(\"http://webstat.banque-france.fr/fr/downloadFile.do?id=5384861&exportType=csv\")\n",
    "\n",
    "with open('data/french_economy_indicators.csv', 'wb') as f:\n",
    "    f.write(economy.content)"
   ]
  }
 ],
 "metadata": {
  "kernelspec": {
   "display_name": "Python 3",
   "language": "python",
   "name": "python3"
  },
  "language_info": {
   "codemirror_mode": {
    "name": "ipython",
    "version": 3
   },
   "file_extension": ".py",
   "mimetype": "text/x-python",
   "name": "python",
   "nbconvert_exporter": "python",
   "pygments_lexer": "ipython3",
   "version": "3.7.6"
  }
 },
 "nbformat": 4,
 "nbformat_minor": 4
}
