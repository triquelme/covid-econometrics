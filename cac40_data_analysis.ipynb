{
 "cells": [
  {
   "cell_type": "code",
   "execution_count": 1,
   "metadata": {},
   "outputs": [],
   "source": [
    "import pandas as pd\n",
    "import matplotlib.pyplot as plt\n",
    "import seaborn as sns"
   ]
  },
  {
   "cell_type": "code",
   "execution_count": 18,
   "metadata": {},
   "outputs": [],
   "source": [
    "df_bourse = pd.read_csv(\"data/cac40_2020.csv\", sep=\";\", header=0, parse_dates = ['Date'], index_col = ['Date'])"
   ]
  },
  {
   "cell_type": "code",
   "execution_count": 19,
   "metadata": {},
   "outputs": [
    {
     "data": {
      "text/html": [
       "<div>\n",
       "<style scoped>\n",
       "    .dataframe tbody tr th:only-of-type {\n",
       "        vertical-align: middle;\n",
       "    }\n",
       "\n",
       "    .dataframe tbody tr th {\n",
       "        vertical-align: top;\n",
       "    }\n",
       "\n",
       "    .dataframe thead th {\n",
       "        text-align: right;\n",
       "    }\n",
       "</style>\n",
       "<table border=\"1\" class=\"dataframe\">\n",
       "  <thead>\n",
       "    <tr style=\"text-align: right;\">\n",
       "      <th></th>\n",
       "      <th>Open</th>\n",
       "      <th>High</th>\n",
       "      <th>Low</th>\n",
       "      <th>Close</th>\n",
       "      <th>Adj Close</th>\n",
       "      <th>Volume</th>\n",
       "    </tr>\n",
       "    <tr>\n",
       "      <th>Date</th>\n",
       "      <th></th>\n",
       "      <th></th>\n",
       "      <th></th>\n",
       "      <th></th>\n",
       "      <th></th>\n",
       "      <th></th>\n",
       "    </tr>\n",
       "  </thead>\n",
       "  <tbody>\n",
       "    <tr>\n",
       "      <th>2020-02-03</th>\n",
       "      <td>5822.040039</td>\n",
       "      <td>5857.399902</td>\n",
       "      <td>5804.140137</td>\n",
       "      <td>5832.509766</td>\n",
       "      <td>5832.509766</td>\n",
       "      <td>75677800</td>\n",
       "    </tr>\n",
       "    <tr>\n",
       "      <th>2020-02-04</th>\n",
       "      <td>5863.359863</td>\n",
       "      <td>5935.049805</td>\n",
       "      <td>5862.819824</td>\n",
       "      <td>5935.049805</td>\n",
       "      <td>5935.049805</td>\n",
       "      <td>85595000</td>\n",
       "    </tr>\n",
       "    <tr>\n",
       "      <th>2020-02-05</th>\n",
       "      <td>5919.060059</td>\n",
       "      <td>6004.330078</td>\n",
       "      <td>5912.490234</td>\n",
       "      <td>5985.399902</td>\n",
       "      <td>5985.399902</td>\n",
       "      <td>107839000</td>\n",
       "    </tr>\n",
       "    <tr>\n",
       "      <th>2020-02-06</th>\n",
       "      <td>6045.040039</td>\n",
       "      <td>6050.939941</td>\n",
       "      <td>6008.549805</td>\n",
       "      <td>6038.180176</td>\n",
       "      <td>6038.180176</td>\n",
       "      <td>106153100</td>\n",
       "    </tr>\n",
       "    <tr>\n",
       "      <th>2020-02-07</th>\n",
       "      <td>6027.540039</td>\n",
       "      <td>6044.970215</td>\n",
       "      <td>5999.950195</td>\n",
       "      <td>6029.750000</td>\n",
       "      <td>6029.750000</td>\n",
       "      <td>82348500</td>\n",
       "    </tr>\n",
       "    <tr>\n",
       "      <th>...</th>\n",
       "      <td>...</td>\n",
       "      <td>...</td>\n",
       "      <td>...</td>\n",
       "      <td>...</td>\n",
       "      <td>...</td>\n",
       "      <td>...</td>\n",
       "    </tr>\n",
       "    <tr>\n",
       "      <th>2020-05-11</th>\n",
       "      <td>4561.189941</td>\n",
       "      <td>4569.759766</td>\n",
       "      <td>4460.240234</td>\n",
       "      <td>4490.220215</td>\n",
       "      <td>4490.220215</td>\n",
       "      <td>83493200</td>\n",
       "    </tr>\n",
       "    <tr>\n",
       "      <th>2020-05-12</th>\n",
       "      <td>4473.430176</td>\n",
       "      <td>4499.390137</td>\n",
       "      <td>4453.649902</td>\n",
       "      <td>4472.500000</td>\n",
       "      <td>4472.500000</td>\n",
       "      <td>99269700</td>\n",
       "    </tr>\n",
       "    <tr>\n",
       "      <th>2020-05-13</th>\n",
       "      <td>4420.500000</td>\n",
       "      <td>4422.740234</td>\n",
       "      <td>4336.560059</td>\n",
       "      <td>4344.950195</td>\n",
       "      <td>4344.950195</td>\n",
       "      <td>103285300</td>\n",
       "    </tr>\n",
       "    <tr>\n",
       "      <th>2020-05-14</th>\n",
       "      <td>4294.009766</td>\n",
       "      <td>4313.259766</td>\n",
       "      <td>4194.580078</td>\n",
       "      <td>4273.129883</td>\n",
       "      <td>4273.129883</td>\n",
       "      <td>127632000</td>\n",
       "    </tr>\n",
       "    <tr>\n",
       "      <th>2020-05-15</th>\n",
       "      <td>4314.970215</td>\n",
       "      <td>4335.770020</td>\n",
       "      <td>4255.189941</td>\n",
       "      <td>4277.629883</td>\n",
       "      <td>4277.629883</td>\n",
       "      <td>111236400</td>\n",
       "    </tr>\n",
       "  </tbody>\n",
       "</table>\n",
       "<p>72 rows × 6 columns</p>\n",
       "</div>"
      ],
      "text/plain": [
       "                   Open         High          Low        Close    Adj Close  \\\n",
       "Date                                                                          \n",
       "2020-02-03  5822.040039  5857.399902  5804.140137  5832.509766  5832.509766   \n",
       "2020-02-04  5863.359863  5935.049805  5862.819824  5935.049805  5935.049805   \n",
       "2020-02-05  5919.060059  6004.330078  5912.490234  5985.399902  5985.399902   \n",
       "2020-02-06  6045.040039  6050.939941  6008.549805  6038.180176  6038.180176   \n",
       "2020-02-07  6027.540039  6044.970215  5999.950195  6029.750000  6029.750000   \n",
       "...                 ...          ...          ...          ...          ...   \n",
       "2020-05-11  4561.189941  4569.759766  4460.240234  4490.220215  4490.220215   \n",
       "2020-05-12  4473.430176  4499.390137  4453.649902  4472.500000  4472.500000   \n",
       "2020-05-13  4420.500000  4422.740234  4336.560059  4344.950195  4344.950195   \n",
       "2020-05-14  4294.009766  4313.259766  4194.580078  4273.129883  4273.129883   \n",
       "2020-05-15  4314.970215  4335.770020  4255.189941  4277.629883  4277.629883   \n",
       "\n",
       "               Volume  \n",
       "Date                   \n",
       "2020-02-03   75677800  \n",
       "2020-02-04   85595000  \n",
       "2020-02-05  107839000  \n",
       "2020-02-06  106153100  \n",
       "2020-02-07   82348500  \n",
       "...               ...  \n",
       "2020-05-11   83493200  \n",
       "2020-05-12   99269700  \n",
       "2020-05-13  103285300  \n",
       "2020-05-14  127632000  \n",
       "2020-05-15  111236400  \n",
       "\n",
       "[72 rows x 6 columns]"
      ]
     },
     "execution_count": 19,
     "metadata": {},
     "output_type": "execute_result"
    }
   ],
   "source": [
    "df_bourse"
   ]
  },
  {
   "cell_type": "code",
   "execution_count": 4,
   "metadata": {},
   "outputs": [
    {
     "data": {
      "text/plain": [
       "(72, 7)"
      ]
     },
     "execution_count": 4,
     "metadata": {},
     "output_type": "execute_result"
    }
   ],
   "source": [
    "# check df size \n",
    "df_bourse.shape"
   ]
  },
  {
   "cell_type": "code",
   "execution_count": 20,
   "metadata": {},
   "outputs": [
    {
     "data": {
      "text/plain": [
       "Open         float64\n",
       "High         float64\n",
       "Low          float64\n",
       "Close        float64\n",
       "Adj Close    float64\n",
       "Volume         int64\n",
       "dtype: object"
      ]
     },
     "execution_count": 20,
     "metadata": {},
     "output_type": "execute_result"
    }
   ],
   "source": [
    "# check columns type\n",
    "df_bourse.dtypes"
   ]
  },
  {
   "cell_type": "code",
   "execution_count": 24,
   "metadata": {},
   "outputs": [
    {
     "data": {
      "text/plain": [
       "DatetimeIndex(['2020-02-03', '2020-02-04', '2020-02-05', '2020-02-06',\n",
       "               '2020-02-07', '2020-02-10', '2020-02-11', '2020-02-12',\n",
       "               '2020-02-13', '2020-02-14', '2020-02-17', '2020-02-18',\n",
       "               '2020-02-19', '2020-02-20', '2020-02-21', '2020-02-24',\n",
       "               '2020-02-25', '2020-02-26', '2020-02-27', '2020-02-28',\n",
       "               '2020-03-02', '2020-03-03', '2020-03-04', '2020-03-05',\n",
       "               '2020-03-06', '2020-03-09', '2020-03-10', '2020-03-11',\n",
       "               '2020-03-12', '2020-03-13', '2020-03-16', '2020-03-17',\n",
       "               '2020-03-18', '2020-03-19', '2020-03-20', '2020-03-23',\n",
       "               '2020-03-24', '2020-03-25', '2020-03-26', '2020-03-27',\n",
       "               '2020-03-30', '2020-03-31', '2020-04-01', '2020-04-02',\n",
       "               '2020-04-03', '2020-04-06', '2020-04-07', '2020-04-08',\n",
       "               '2020-04-09', '2020-04-14', '2020-04-15', '2020-04-16',\n",
       "               '2020-04-17', '2020-04-20', '2020-04-21', '2020-04-22',\n",
       "               '2020-04-23', '2020-04-24', '2020-04-27', '2020-04-28',\n",
       "               '2020-04-29', '2020-04-30', '2020-05-04', '2020-05-05',\n",
       "               '2020-05-06', '2020-05-07', '2020-05-08', '2020-05-11',\n",
       "               '2020-05-12', '2020-05-13', '2020-05-14', '2020-05-15'],\n",
       "              dtype='datetime64[ns]', name='Date', freq=None)"
      ]
     },
     "execution_count": 24,
     "metadata": {},
     "output_type": "execute_result"
    }
   ],
   "source": [
    "df_bourse.index"
   ]
  },
  {
   "cell_type": "code",
   "execution_count": 23,
   "metadata": {},
   "outputs": [
    {
     "name": "stdout",
     "output_type": "stream",
     "text": [
      "<class 'pandas.core.frame.DataFrame'>\n",
      "DatetimeIndex: 72 entries, 2020-02-03 to 2020-05-15\n",
      "Data columns (total 6 columns):\n",
      " #   Column     Non-Null Count  Dtype  \n",
      "---  ------     --------------  -----  \n",
      " 0   Open       72 non-null     float64\n",
      " 1   High       72 non-null     float64\n",
      " 2   Low        72 non-null     float64\n",
      " 3   Close      72 non-null     float64\n",
      " 4   Adj Close  72 non-null     float64\n",
      " 5   Volume     72 non-null     int64  \n",
      "dtypes: float64(5), int64(1)\n",
      "memory usage: 6.4 KB\n"
     ]
    }
   ],
   "source": [
    "# check null data\n",
    "df_bourse.info()"
   ]
  },
  {
   "cell_type": "code",
   "execution_count": 9,
   "metadata": {},
   "outputs": [],
   "source": [
    "# good, there is no null values in the dataset "
   ]
  },
  {
   "cell_type": "code",
   "execution_count": 25,
   "metadata": {},
   "outputs": [
    {
     "data": {
      "text/plain": [
       "Index(['Open', 'High', 'Low', 'Close', 'Adj Close', 'Volume'], dtype='object')"
      ]
     },
     "execution_count": 25,
     "metadata": {},
     "output_type": "execute_result"
    }
   ],
   "source": [
    "df_bourse.columns"
   ]
  },
  {
   "cell_type": "code",
   "execution_count": 26,
   "metadata": {},
   "outputs": [
    {
     "data": {
      "text/html": [
       "<div>\n",
       "<style scoped>\n",
       "    .dataframe tbody tr th:only-of-type {\n",
       "        vertical-align: middle;\n",
       "    }\n",
       "\n",
       "    .dataframe tbody tr th {\n",
       "        vertical-align: top;\n",
       "    }\n",
       "\n",
       "    .dataframe thead th {\n",
       "        text-align: right;\n",
       "    }\n",
       "</style>\n",
       "<table border=\"1\" class=\"dataframe\">\n",
       "  <thead>\n",
       "    <tr style=\"text-align: right;\">\n",
       "      <th></th>\n",
       "      <th>Adj Close</th>\n",
       "    </tr>\n",
       "    <tr>\n",
       "      <th>Date</th>\n",
       "      <th></th>\n",
       "    </tr>\n",
       "  </thead>\n",
       "  <tbody>\n",
       "    <tr>\n",
       "      <th>2020-02-03</th>\n",
       "      <td>5832.509766</td>\n",
       "    </tr>\n",
       "    <tr>\n",
       "      <th>2020-02-04</th>\n",
       "      <td>5935.049805</td>\n",
       "    </tr>\n",
       "    <tr>\n",
       "      <th>2020-02-05</th>\n",
       "      <td>5985.399902</td>\n",
       "    </tr>\n",
       "    <tr>\n",
       "      <th>2020-02-06</th>\n",
       "      <td>6038.180176</td>\n",
       "    </tr>\n",
       "    <tr>\n",
       "      <th>2020-02-07</th>\n",
       "      <td>6029.750000</td>\n",
       "    </tr>\n",
       "    <tr>\n",
       "      <th>...</th>\n",
       "      <td>...</td>\n",
       "    </tr>\n",
       "    <tr>\n",
       "      <th>2020-05-11</th>\n",
       "      <td>4490.220215</td>\n",
       "    </tr>\n",
       "    <tr>\n",
       "      <th>2020-05-12</th>\n",
       "      <td>4472.500000</td>\n",
       "    </tr>\n",
       "    <tr>\n",
       "      <th>2020-05-13</th>\n",
       "      <td>4344.950195</td>\n",
       "    </tr>\n",
       "    <tr>\n",
       "      <th>2020-05-14</th>\n",
       "      <td>4273.129883</td>\n",
       "    </tr>\n",
       "    <tr>\n",
       "      <th>2020-05-15</th>\n",
       "      <td>4277.629883</td>\n",
       "    </tr>\n",
       "  </tbody>\n",
       "</table>\n",
       "<p>72 rows × 1 columns</p>\n",
       "</div>"
      ],
      "text/plain": [
       "              Adj Close\n",
       "Date                   \n",
       "2020-02-03  5832.509766\n",
       "2020-02-04  5935.049805\n",
       "2020-02-05  5985.399902\n",
       "2020-02-06  6038.180176\n",
       "2020-02-07  6029.750000\n",
       "...                 ...\n",
       "2020-05-11  4490.220215\n",
       "2020-05-12  4472.500000\n",
       "2020-05-13  4344.950195\n",
       "2020-05-14  4273.129883\n",
       "2020-05-15  4277.629883\n",
       "\n",
       "[72 rows x 1 columns]"
      ]
     },
     "execution_count": 26,
     "metadata": {},
     "output_type": "execute_result"
    }
   ],
   "source": [
    "# select data\n",
    "df_bourse = df_bourse[['Adj Close']]\n",
    "df_bourse"
   ]
  },
  {
   "cell_type": "code",
   "execution_count": 15,
   "metadata": {},
   "outputs": [],
   "source": [
    "sns.set(style=\"darkgrid\")"
   ]
  },
  {
   "cell_type": "code",
   "execution_count": 29,
   "metadata": {},
   "outputs": [
    {
     "data": {
      "image/png": "[encoded data removed]",
      "text/plain": [
       "<Figure size 432x288 with 1 Axes>"
      ]
     },
     "metadata": {},
     "output_type": "display_data"
    }
   ],
   "source": [
    "sns.lineplot(x=df_bourse.index.values, y=\"Adj Close\", data=df_bourse)\n",
    "plt.xticks(rotation=45)\n",
    "plt.title('Evolution of CAC40 stock')\n",
    "plt.show()"
   ]
  },
  {
   "cell_type": "code",
   "execution_count": null,
   "metadata": {},
   "outputs": [],
   "source": [
    "# CAC40 stock started to decline the 25-02-2020\n",
    "# 25-02-2020: 1st covid infected person died\n",
    "# 26-02-2020: 5 new diagnosed cases\n",
    "# 27-02-2020: 20 new cases \n",
    "# => coronavirus pandemic starts in France and with it CAC40 stock declined"
   ]
  },
  {
   "cell_type": "code",
   "execution_count": 33,
   "metadata": {},
   "outputs": [
    {
     "data": {
      "text/html": [
       "<div>\n",
       "<style scoped>\n",
       "    .dataframe tbody tr th:only-of-type {\n",
       "        vertical-align: middle;\n",
       "    }\n",
       "\n",
       "    .dataframe tbody tr th {\n",
       "        vertical-align: top;\n",
       "    }\n",
       "\n",
       "    .dataframe thead th {\n",
       "        text-align: right;\n",
       "    }\n",
       "</style>\n",
       "<table border=\"1\" class=\"dataframe\">\n",
       "  <thead>\n",
       "    <tr style=\"text-align: right;\">\n",
       "      <th></th>\n",
       "      <th>Adj Close</th>\n",
       "    </tr>\n",
       "    <tr>\n",
       "      <th>Date</th>\n",
       "      <th></th>\n",
       "    </tr>\n",
       "  </thead>\n",
       "  <tbody>\n",
       "    <tr>\n",
       "      <th>2020-03-18</th>\n",
       "      <td>3754.840088</td>\n",
       "    </tr>\n",
       "  </tbody>\n",
       "</table>\n",
       "</div>"
      ],
      "text/plain": [
       "              Adj Close\n",
       "Date                   \n",
       "2020-03-18  3754.840088"
      ]
     },
     "execution_count": 33,
     "metadata": {},
     "output_type": "execute_result"
    }
   ],
   "source": [
    "df_bourse[df_bourse['Adj Close']==df_bourse['Adj Close'].min()]"
   ]
  },
  {
   "cell_type": "code",
   "execution_count": null,
   "metadata": {},
   "outputs": [],
   "source": [
    "# CAC40 stocks is minimal the 18-03-2020\n",
    "# Quarantine announcement in France: 16-03-2020"
   ]
  }
 ],
 "metadata": {
  "kernelspec": {
   "display_name": "Python 3",
   "language": "python",
   "name": "python3"
  },
  "language_info": {
   "codemirror_mode": {
    "name": "ipython",
    "version": 3
   },
   "file_extension": ".py",
   "mimetype": "text/x-python",
   "name": "python",
   "nbconvert_exporter": "python",
   "pygments_lexer": "ipython3",
   "version": "3.7.6"
  }
 },
 "nbformat": 4,
 "nbformat_minor": 2
}
